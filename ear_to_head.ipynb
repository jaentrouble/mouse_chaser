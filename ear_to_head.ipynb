{
 "metadata": {
  "language_info": {
   "codemirror_mode": {
    "name": "ipython",
    "version": 3
   },
   "file_extension": ".py",
   "mimetype": "text/x-python",
   "name": "python",
   "nbconvert_exporter": "python",
   "pygments_lexer": "ipython3",
   "version": "3.7.8-final"
  },
  "orig_nbformat": 2,
  "kernelspec": {
   "name": "Python 3.7.8 64-bit ('env')",
   "display_name": "Python 3.7.8 64-bit ('env')",
   "metadata": {
    "interpreter": {
     "hash": "413f0dadd224cf4fe4692f05b6e27679e7a1ff1360e25bf468553bd72a694815"
    }
   }
  }
 },
 "nbformat": 4,
 "nbformat_minor": 2,
 "cells": [
  {
   "cell_type": "code",
   "execution_count": 2,
   "metadata": {},
   "outputs": [],
   "source": [
    "import pickle\n",
    "import os\n",
    "from pathlib import Path\n",
    "import numpy as np"
   ]
  },
  {
   "cell_type": "code",
   "execution_count": 3,
   "metadata": {},
   "outputs": [],
   "source": [
    "savedir = Path('records/save/etho')\n",
    "for pk in os.listdir(savedir):\n",
    "    with open(savedir/pk,'rb') as f:\n",
    "        data = pickle.load(f)\n",
    "    for d in data:\n",
    "        d['head'] = tuple(np.round(np.mean(d['ear'],axis=0)).astype(np.int))\n",
    "    with open(savedir/f'{pk}_fix.pck', 'wb') as f:\n",
    "        pickle.dump(data, f)"
   ]
  },
  {
   "cell_type": "code",
   "execution_count": 4,
   "metadata": {},
   "outputs": [
    {
     "output_type": "stream",
     "name": "stdout",
     "text": [
      "[(488, 598), (478, 584)]\n(483, 591)\n"
     ]
    }
   ],
   "source": [
    "with open(savedir/'0.pck_fix.pck','rb') as f:\n",
    "    data = pickle.load(f)\n",
    "print(data[4]['ear'])\n",
    "print(data[4]['head'])"
   ]
  },
  {
   "cell_type": "code",
   "execution_count": null,
   "metadata": {},
   "outputs": [],
   "source": []
  }
 ]
}